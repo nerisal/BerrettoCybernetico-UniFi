{
 "cells": [
  {
   "cell_type": "markdown",
   "id": "3dc5c7bb",
   "metadata": {},
   "source": [
    "# Laboratorio 1\n",
    "## Esercizio 6:\n",
    "Scrivere uno script file per definire i vettori x = (1, 2, 3, 4)T e y = (2, 4, 6, 8)T e calcolare:x + y, xT , xT y e il prodotto componente a componente fra i vettori x e y."
   ]
  },
  {
   "cell_type": "code",
   "execution_count": 18,
   "id": "0f28bab5",
   "metadata": {},
   "outputs": [],
   "source": [
    "x = [1;2;3;4];\n",
    "y = [2;4;6;8];\n"
   ]
  },
  {
   "cell_type": "code",
   "execution_count": 19,
   "id": "97a25e92",
   "metadata": {
    "scrolled": true
   },
   "outputs": [
    {
     "data": {
      "text/plain": [
       "4-element Vector{Int64}:\n",
       "  3\n",
       "  6\n",
       "  9\n",
       " 12"
      ]
     },
     "metadata": {},
     "output_type": "display_data"
    }
   ],
   "source": [
    "x+y"
   ]
  },
  {
   "cell_type": "code",
   "execution_count": 20,
   "id": "9404135f",
   "metadata": {},
   "outputs": [
    {
     "data": {
      "text/plain": [
       "1×4 adjoint(::Vector{Int64}) with eltype Int64:\n",
       " 1  2  3  4"
      ]
     },
     "metadata": {},
     "output_type": "display_data"
    }
   ],
   "source": [
    "x'"
   ]
  },
  {
   "cell_type": "code",
   "execution_count": 21,
   "id": "94f4a598",
   "metadata": {},
   "outputs": [
    {
     "data": {
      "text/plain": [
       "60"
      ]
     },
     "metadata": {},
     "output_type": "display_data"
    }
   ],
   "source": [
    "x' * y"
   ]
  },
  {
   "cell_type": "code",
   "execution_count": 22,
   "id": "1d70665f",
   "metadata": {
    "scrolled": true
   },
   "outputs": [
    {
     "data": {
      "text/plain": [
       "4-element Vector{Int64}:\n",
       "  2\n",
       "  8\n",
       " 18\n",
       " 32"
      ]
     },
     "metadata": {},
     "output_type": "display_data"
    }
   ],
   "source": [
    "x .* y"
   ]
  },
  {
   "cell_type": "markdown",
   "id": "a72164f9",
   "metadata": {},
   "source": [
    "## Esercizio 7:\n",
    "Scrivere uno script file per assegnare i seguenti vettori:\n",
    "- z ∈ IR20 tale che: zk = k, per k = 1, 2, . . . , 20;\n",
    "- v ∈ IR100 tale che: v1 = 3, vi = 10−3 , i = 2, 3, . . . , 100;\n",
    "- w ∈ IRn tale che: wk = a + (k − 1)h, per k = 1, 2, . . . , n, con n = 21, a = 0, h = 1/(n − 1)."
   ]
  },
  {
   "cell_type": "code",
   "execution_count": 23,
   "id": "393341a1",
   "metadata": {},
   "outputs": [
    {
     "data": {
      "text/plain": [
       "20-element Vector{Float64}:\n",
       "  1.0\n",
       "  2.0\n",
       "  3.0\n",
       "  4.0\n",
       "  5.0\n",
       "  6.0\n",
       "  7.0\n",
       "  8.0\n",
       "  9.0\n",
       " 10.0\n",
       " 11.0\n",
       " 12.0\n",
       " 13.0\n",
       " 14.0\n",
       " 15.0\n",
       " 16.0\n",
       " 17.0\n",
       " 18.0\n",
       " 19.0\n",
       " 20.0"
      ]
     },
     "metadata": {},
     "output_type": "display_data"
    }
   ],
   "source": [
    "z = zeros(20);\n",
    "for k = 1:20\n",
    "    z[k] = k;\n",
    "end\n",
    "\n",
    "z\n"
   ]
  },
  {
   "cell_type": "code",
   "execution_count": 24,
   "id": "eeff691d",
   "metadata": {},
   "outputs": [
    {
     "data": {
      "text/plain": [
       "100-element Vector{Float64}:\n",
       " 3.0\n",
       " 0.001\n",
       " 0.001\n",
       " 0.001\n",
       " 0.001\n",
       " 0.001\n",
       " 0.001\n",
       " 0.001\n",
       " 0.001\n",
       " 0.001\n",
       " ⋮\n",
       " 0.001\n",
       " 0.001\n",
       " 0.001\n",
       " 0.001\n",
       " 0.001\n",
       " 0.001\n",
       " 0.001\n",
       " 0.001\n",
       " 0.001"
      ]
     },
     "metadata": {},
     "output_type": "display_data"
    }
   ],
   "source": [
    "v = ones(100) * 10^-3;\n",
    "v[1] = 3;\n",
    "\n",
    "v"
   ]
  },
  {
   "cell_type": "code",
   "execution_count": 25,
   "id": "b4253cdd",
   "metadata": {},
   "outputs": [
    {
     "data": {
      "text/plain": [
       "21-element Vector{Float64}:\n",
       " 0.0\n",
       " 0.05\n",
       " 0.1\n",
       " 0.15000000000000002\n",
       " 0.2\n",
       " 0.25\n",
       " 0.30000000000000004\n",
       " 0.35000000000000003\n",
       " 0.4\n",
       " 0.45\n",
       " ⋮\n",
       " 0.6000000000000001\n",
       " 0.65\n",
       " 0.7000000000000001\n",
       " 0.75\n",
       " 0.8\n",
       " 0.8500000000000001\n",
       " 0.9\n",
       " 0.9500000000000001\n",
       " 1.0"
      ]
     },
     "metadata": {},
     "output_type": "display_data"
    }
   ],
   "source": [
    "n = 21;\n",
    "w = ones(n);\n",
    "a = 0;\n",
    "h = 1 / (n - 1);\n",
    "for k = 1:n\n",
    "    w[k] = (a +(k - 1)*h);\n",
    "end\n",
    "\n",
    "w"
   ]
  },
  {
   "cell_type": "code",
   "execution_count": 26,
   "id": "4e019b9e",
   "metadata": {},
   "outputs": [],
   "source": []
  }
 ],
 "metadata": {
  "kernelspec": {
   "display_name": "Julia 1.11.4",
   "language": "julia",
   "name": "julia-1.11"
  },
  "language_info": {
   "file_extension": ".jl",
   "mimetype": "application/julia",
   "name": "julia",
   "version": "1.11.4"
  }
 },
 "nbformat": 4,
 "nbformat_minor": 5
}
